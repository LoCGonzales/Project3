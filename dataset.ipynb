{
 "cells": [
  {
   "cell_type": "code",
   "execution_count": 1,
   "metadata": {},
   "outputs": [
    {
     "ename": "ModuleNotFoundError",
     "evalue": "No module named 'kaggle'",
     "output_type": "error",
     "traceback": [
      "\u001b[1;31m---------------------------------------------------------------------------\u001b[0m",
      "\u001b[1;31mModuleNotFoundError\u001b[0m                       Traceback (most recent call last)",
      "Cell \u001b[1;32mIn[1], line 6\u001b[0m\n\u001b[0;32m      4\u001b[0m \u001b[38;5;28;01mimport\u001b[39;00m \u001b[38;5;21;01mpandas\u001b[39;00m \u001b[38;5;28;01mas\u001b[39;00m \u001b[38;5;21;01mpd\u001b[39;00m\n\u001b[0;32m      5\u001b[0m \u001b[38;5;28;01mimport\u001b[39;00m \u001b[38;5;21;01mmatplotlib\u001b[39;00m\u001b[38;5;21;01m.\u001b[39;00m\u001b[38;5;21;01mpyplot\u001b[39;00m \u001b[38;5;28;01mas\u001b[39;00m \u001b[38;5;21;01mplt\u001b[39;00m\n\u001b[1;32m----> 6\u001b[0m \u001b[38;5;28;01mimport\u001b[39;00m \u001b[38;5;21;01mkaggle\u001b[39;00m\n\u001b[0;32m      7\u001b[0m \u001b[38;5;28;01mimport\u001b[39;00m \u001b[38;5;21;01mzipfile\u001b[39;00m\n\u001b[0;32m      8\u001b[0m \u001b[38;5;28;01mimport\u001b[39;00m \u001b[38;5;21;01mos\u001b[39;00m\n",
      "\u001b[1;31mModuleNotFoundError\u001b[0m: No module named 'kaggle'"
     ]
    }
   ],
   "source": [
    "# Dependencies and Setup\n",
    "from pymongo import MongoClient\n",
    "from pprint import pprint\n",
    "import pandas as pd\n",
    "import matplotlib.pyplot as plt\n",
    "\n",
    "# File to Load \n",
    "mongo = MongoClient(port=27017)\n",
    "\n",
    "# Declare the database\n",
    "for dbname in mongo.list_database_names():\n",
    "    print(dbname, \"<--------\" if dbname=='remote' else \"\")\n"
   ]
  },
  {
   "cell_type": "code",
   "execution_count": 6,
   "metadata": {},
   "outputs": [
    {
     "name": "stdout",
     "output_type": "stream",
     "text": [
      "['collectionName']\n"
     ]
    }
   ],
   "source": [
    "db = mongo['remote']\n",
    "collection = db['collectionName']\n",
    "# review the collections in our new database\n",
    "print(db.list_collection_names())"
   ]
  },
  {
   "cell_type": "code",
   "execution_count": 8,
   "metadata": {},
   "outputs": [
    {
     "name": "stdout",
     "output_type": "stream",
     "text": [
      "{'Access_to_Mental_Health_Resources': 'No',\n",
      " 'Age': 52,\n",
      " 'Company_Support_for_Remote_Work': 3,\n",
      " 'Employee_ID': 'EMP1463',\n",
      " 'Gender': 'Male',\n",
      " 'Hours_Worked_Per_Week': 56,\n",
      " 'Industry': 'Consulting',\n",
      " 'Job_Role': 'Project Manager',\n",
      " 'Mental_Health_Condition': 'Depression',\n",
      " 'Number_of_Virtual_Meetings': 10,\n",
      " 'Physical_Activity': 'Weekly',\n",
      " 'Productivity_Change': 'No Change',\n",
      " 'Region': 'Europe',\n",
      " 'Satisfaction_with_Remote_Work': 'Unsatisfied',\n",
      " 'Sleep_Quality': 'Poor',\n",
      " 'Social_Isolation_Rating': 1,\n",
      " 'Stress_Level': 'Medium',\n",
      " 'Work_Life_Balance_Rating': 4,\n",
      " 'Work_Location': 'Remote',\n",
      " 'Years_of_Experience': 35,\n",
      " '_id': ObjectId('67086bfcb3536d91249bf418')}\n"
     ]
    }
   ],
   "source": [
    "sample_doc = collection.find_one()\n",
    "pprint(sample_doc)"
   ]
  },
  {
   "cell_type": "code",
   "execution_count": 10,
   "metadata": {},
   "outputs": [],
   "source": [
    "# Find all unique fields in the collection\n",
    "unique_fields = set()\n",
    "for doc in collection.find():\n",
    "    unique_fields.update(doc.keys())\n",
    "\n",
    "# Find documents with any missing fields\n",
    "docs_with_missing_fields = []\n",
    "for doc in collection.find():\n",
    "    missing_fields = [field for field in unique_fields if field not in doc or doc[field] is None]\n",
    "    if missing_fields:\n",
    "        docs_with_missing_fields.append({\n",
    "            \"_id\": doc[\"_id\"],\n",
    "            \"missing_fields\": missing_fields\n",
    "        })\n",
    "\n",
    "# Print documents with missing fields\n",
    "for doc in docs_with_missing_fields:\n",
    "    pprint(doc)\n"
   ]
  },
  {
   "cell_type": "code",
   "execution_count": null,
   "metadata": {},
   "outputs": [],
   "source": []
  }
 ],
 "metadata": {
  "kernelspec": {
   "display_name": "dev",
   "language": "python",
   "name": "python3"
  },
  "language_info": {
   "codemirror_mode": {
    "name": "ipython",
    "version": 3
   },
   "file_extension": ".py",
   "mimetype": "text/x-python",
   "name": "python",
   "nbconvert_exporter": "python",
   "pygments_lexer": "ipython3",
   "version": "3.10.14"
  }
 },
 "nbformat": 4,
 "nbformat_minor": 2
}
